{
 "cells": [
  {
   "cell_type": "code",
   "execution_count": 21,
   "metadata": {},
   "outputs": [],
   "source": [
    "import sounddevice as sd\n",
    "import numpy as np\n",
    "import json\n",
    "\n",
    "\n",
    "sd.default.samplerate = 48000\n",
    "\n",
    "\n",
    "with open('notesFreqs.json', 'r') as f:\n",
    "    notesFreqs = json.load(f)\n",
    "\n",
    "\n",
    "def createNote(duration, note):\n",
    "    freq = notesFreqs[note]\n",
    "    return np.sin(2*np.pi*np.arange(0, duration, 1/48000)*freq)\n",
    "\n",
    "sheet = np.concatenate((createNote(1/4, 'D4'), createNote(1/4, 'E4'), createNote(1/4, 'D4'), createNote(1/4, 'E4'),\n",
    "                        createNote(1/4 + (1/8), 'D4'), createNote(1/8, 'G4'), createNote(1/4, 'B4'), createNote(1/4, 'G4'),\n",
    "                        createNote(1/4, 'D4'), createNote(1/4, 'E4'), createNote(1/4, 'D4'), createNote(1/4, 'E4'),\n",
    "                        createNote(1/4 + (1/8), 'D4'), createNote(1/8, 'G4'), createNote(1/4, 'B4'), createNote(1/4, 'G4'),\n",
    "                        \n",
    "                        createNote(1/4 + (1/8), 'C5'), createNote(1/8, 'B4'), createNote(1/4, 'A4'), createNote(1/128, 'P'), createNote(1/4, 'A4'),\n",
    "                        createNote(1/4 + (1/8), 'B4'), createNote(1/8, 'A4'), createNote(1/4, 'G4'), createNote(1/128, 'P'), createNote(1/4, 'G4'),\n",
    "                        createNote(1/4, 'F#4'), createNote(1/128, 'P'), createNote(1/4, 'F#4'), createNote(1/4, 'E4'), createNote(1/4, 'F#4'),    \n",
    "                        createNote(1/4 + (1/8), 'G4'), createNote(1/8, 'A4'), createNote(1/4, 'B4'), createNote(1/128, 'P'), createNote(1/4, 'B4'),\n",
    "                        \n",
    "                        createNote(1/4 + (1/8), 'C5'), createNote(1/8, 'B4'), createNote(1/4, 'A4'), createNote(1/128, 'P'), createNote(1/4, 'A4'),\n",
    "                        createNote(1/4 + (1/8), 'B4'), createNote(1/8, 'A4'), createNote(1/4, 'G4'), createNote(1/128, 'P'), createNote(1/4, 'G4'),\n",
    "                        createNote(1/4, 'F#4'), createNote(1/128, 'P'), createNote(1/4, 'F#4'), createNote(1/4, 'E4'), createNote(1/4, 'F#4'),\n",
    "                        createNote(1/4 + (1/8), 'G4'), createNote(1/128, 'P'), createNote(1/8, 'G4'), createNote(1/128, 'P'), createNote(1/4, 'G4'), createNote(1/128, 'P'), createNote(1/4, 'G4')))\n",
    "\n",
    "\n",
    "sd.play(sheet)"
   ]
  }
 ],
 "metadata": {
  "kernelspec": {
   "display_name": "Python 3",
   "language": "python",
   "name": "python3"
  },
  "language_info": {
   "codemirror_mode": {
    "name": "ipython",
    "version": 3
   },
   "file_extension": ".py",
   "mimetype": "text/x-python",
   "name": "python",
   "nbconvert_exporter": "python",
   "pygments_lexer": "ipython3",
   "version": "3.11.6"
  }
 },
 "nbformat": 4,
 "nbformat_minor": 2
}
